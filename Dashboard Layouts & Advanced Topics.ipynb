{
 "cells": [
  {
   "cell_type": "code",
   "execution_count": 3,
   "id": "e1e66536",
   "metadata": {},
   "outputs": [],
   "source": [
    "# imports\n",
    "import plotly.express as px\n",
    "from dash.dependencies import Output, Input\n",
    "from dash import Dash, html, dcc\n",
    "from jupyter_dash import JupyterDash\n",
    "import pandas as pd\n",
    "import numpy as np"
   ]
  },
  {
   "cell_type": "markdown",
   "id": "9c25d348",
   "metadata": {},
   "source": [
    "# Layout of Dashboards"
   ]
  },
  {
   "cell_type": "markdown",
   "id": "f22e59d0",
   "metadata": {},
   "source": [
    "## html components"
   ]
  },
  {
   "cell_type": "markdown",
   "id": "fbd446f9",
   "metadata": {},
   "source": [
    "https://dash.plotly.com/dash-html-components"
   ]
  },
  {
   "cell_type": "markdown",
   "id": "30869614",
   "metadata": {},
   "source": [
    "key takeaways:\n",
    "\n",
    " - you can use html.Markdown to display whole markdown text in one go\n",
    " - html.Span lets you change the style of pecific words within a sentence\n",
    " EG html.P(['hi my name', html.Span('is'), html.Span('Jeff')]"
   ]
  },
  {
   "cell_type": "markdown",
   "id": "d94a62b3",
   "metadata": {},
   "source": [
    "### HTML & MARKDOWN ASSIGNMENT"
   ]
  },
  {
   "cell_type": "code",
   "execution_count": 8,
   "id": "0747e967",
   "metadata": {},
   "outputs": [
    {
     "name": "stdout",
     "output_type": "stream",
     "text": [
      "Dash is running on http://127.0.0.1:8649/\n",
      "\n"
     ]
    },
    {
     "data": {
      "text/html": [
       "\n",
       "        <iframe\n",
       "            width=\"100%\"\n",
       "            height=\"650\"\n",
       "            src=\"http://127.0.0.1:8649/\"\n",
       "            frameborder=\"0\"\n",
       "            allowfullscreen\n",
       "            \n",
       "        ></iframe>\n",
       "        "
      ],
      "text/plain": [
       "<IPython.lib.display.IFrame at 0x1280165d0>"
      ]
     },
     "metadata": {},
     "output_type": "display_data"
    }
   ],
   "source": [
    "app = JupyterDash(__name__)\n",
    "\n",
    "\n",
    "app.layout = html.Div(\n",
    "    style={\n",
    "        \"font-family\":\"Arial\", \n",
    "        \"backgroundColor\": \"black\", \n",
    "        \"color\": \"lightGrey\",\n",
    "        \"horizontal-align\": \"center\",\n",
    "#         \"text-align\": 'center'\n",
    "    },\n",
    "    children=[\n",
    "        html.H1(\"Hello!!!\"),\n",
    "        html.P(\n",
    "            [\"Welcome to the \",\n",
    "            html.Span(\"BEST\", \n",
    "                      style={\n",
    "                          \"color\": \"Red\", \"font-weight\": \"Bold\",  \"fontSize\": 32\n",
    "                    }), \n",
    "            \" website in the world!\"\n",
    "        ]),\n",
    "        html.Br(),\n",
    "        html.Div([\n",
    "        dcc.Markdown('''\n",
    "            # Section 1\n",
    "            ### Shopping List\n",
    "            * Apples\n",
    "            * Salad Tongs\n",
    "            * Jumbo Couch\n",
    "\n",
    "            **Note to self**: Don't forget to bring shopping bag!\n",
    "        '''),\n",
    "        html.Br(),\n",
    "        dcc.Markdown('''\n",
    "            # Section 2\n",
    "            ### Learning List\n",
    "            1. Python\n",
    "            2. More Python\n",
    "            3. A bit of HTML\n",
    "\n",
    "            **Note to self**: *Be kind to yourself if you get stuck.*\n",
    "            ''', style={\"color\":\"limegreen\"}\n",
    "        )\n",
    "    ])\n",
    "])\n",
    "\n",
    "\n",
    "app.run_server(debug=True, mode=\"inline\", port=8649)"
   ]
  },
  {
   "cell_type": "markdown",
   "id": "0d3c4607",
   "metadata": {},
   "source": [
    "### Styling DCC components"
   ]
  },
  {
   "cell_type": "markdown",
   "id": "9add383e",
   "metadata": {},
   "source": [
    "dcc components do not have the parent styles applied to them, so the parent styles need to be specified within them"
   ]
  },
  {
   "cell_type": "code",
   "execution_count": 18,
   "id": "6c178a13",
   "metadata": {
    "scrolled": true
   },
   "outputs": [
    {
     "name": "stdout",
     "output_type": "stream",
     "text": [
      "Dash is running on http://127.0.0.1:8111/\n",
      "\n"
     ]
    },
    {
     "data": {
      "text/html": [
       "\n",
       "        <iframe\n",
       "            width=\"100%\"\n",
       "            height=\"650\"\n",
       "            src=\"http://127.0.0.1:8111/\"\n",
       "            frameborder=\"0\"\n",
       "            allowfullscreen\n",
       "            \n",
       "        ></iframe>\n",
       "        "
      ],
      "text/plain": [
       "<IPython.lib.display.IFrame at 0x128c1ae50>"
      ]
     },
     "metadata": {},
     "output_type": "display_data"
    }
   ],
   "source": [
    "url = r'/Users/chrismembrey/Desktop/DS/projects/plotly_dash_course/Course_Materials/Data/states_all.csv'\n",
    "\n",
    "education = pd.read_csv(url).iloc[:, 1:]\n",
    "\n",
    "app = JupyterDash(__name__)\n",
    "\n",
    "my_dash_app_style = {\n",
    "    \"color\": \"lightgrey\",\n",
    "    \"backgroundColor\": \"black\",\n",
    "    \"font-family\": \"Arial\"\n",
    "}\n",
    "\n",
    "\n",
    "app.layout = html.Div(\n",
    "    style=my_dash_app_style,\n",
    "    children=[\n",
    "        html.H2(\n",
    "            id=\"Header Text\",         \n",
    "        ),\n",
    "        html.Hr(),\n",
    "        html.P(\"Select a State Below\", id='instructions'),\n",
    "        dcc.Dropdown(\n",
    "            options=[#\"Alabama\", \"Alaska\", \"Arkansas\"],\n",
    "                {\"label\": html.Span(\"Alabama\", style={\"color\": \"red\", \"backgroundColor\": \"black\"}),\n",
    "                 \"value\": \"Alabama\"},\n",
    "                {\"label\":\"Alaska\", \"value\": \"Alaska\"}, \n",
    "                {\"label\":\"Arkansas\", \"value\": \"Arkansas\"}, \n",
    "            ],\n",
    "            value=\"Alabama\",\n",
    "            style=my_dash_app_style,\n",
    "            id=\"State Dropdown\",\n",
    "        ),\n",
    "        dcc.Graph(id=\"Revenue Line\"),\n",
    "        html.P(\"Important footnote about the data\", style={\"fontsize\": 8, \"backgroundColor\": \"grey\"})\n",
    "])\n",
    "\n",
    "@app.callback(\n",
    "    Output(\"Header Text\", \"children\"),\n",
    "    Output(\"Revenue Line\", \"figure\"),\n",
    "    Input(\"State Dropdown\", \"value\")\n",
    ")\n",
    "\n",
    "def plot_state_line(state):\n",
    "    if not state:\n",
    "        raise PreventUpdate\n",
    "    df=education.loc[\n",
    "        (education[\"STATE\"]==state.upper()) & (education[\"YEAR\"].between(1992, 2017))\n",
    "    ]\n",
    "    fig=px.line(df,x=\"YEAR\", y=\"GRADES_ALL_G\")\n",
    "    fig.update_layout(\n",
    "#         plot_bgcolor=\"black\",\n",
    "#         paper_bgcolor=\"black\",\n",
    "#         font_color=\"lightgrey\",\n",
    "        template=\"plotly_dark\"\n",
    "    )\n",
    "    title = f\"Enrollment over time in {state.title()}\"\n",
    "    return title, fig\n",
    "\n",
    "app.run_server(debug=True, mode=\"inline\", port=8111,)"
   ]
  },
  {
   "cell_type": "markdown",
   "id": "c0929256",
   "metadata": {},
   "source": [
    "[site for plotly themes](https://plotly.com/python/templates/)"
   ]
  },
  {
   "cell_type": "markdown",
   "id": "dafbaaed",
   "metadata": {},
   "source": [
    "### Assignment: Style the app you made for the mid course project"
   ]
  },
  {
   "cell_type": "code",
   "execution_count": 94,
   "id": "fbafc4b8",
   "metadata": {
    "scrolled": true
   },
   "outputs": [
    {
     "name": "stdout",
     "output_type": "stream",
     "text": [
      "Dash is running on http://127.0.0.1:9987/\n",
      "\n"
     ]
    },
    {
     "data": {
      "text/html": [
       "\n",
       "        <iframe\n",
       "            width=\"100%\"\n",
       "            height=\"650\"\n",
       "            src=\"http://127.0.0.1:9987/\"\n",
       "            frameborder=\"0\"\n",
       "            allowfullscreen\n",
       "            \n",
       "        ></iframe>\n",
       "        "
      ],
      "text/plain": [
       "<IPython.lib.display.IFrame at 0x12e272a90>"
      ]
     },
     "metadata": {},
     "output_type": "display_data"
    }
   ],
   "source": [
    "# Set the default color scale to white-blue\n",
    "px.defaults.color_continuous_scale = px.colors.sequential.Magenta\n",
    "\n",
    "url = r\"/Users/chrismembrey/Desktop/DS/projects/plotly_dash_course/Course_Materials/Data/Ski Resorts/resorts.csv\"\n",
    "am_ski = pd.read_csv(url, encoding = \"ISO-8859-1\").query(\"Continent == 'North America'\")\n",
    "am_ski.head()\n",
    "\n",
    "app = JupyterDash(__name__)\n",
    "\n",
    "\n",
    "# overall dash style\n",
    "dash_app_overall_style = {\n",
    "    \n",
    "    'backgroundColor': 'darkblue',\n",
    "    'color': 'lightgrey',\n",
    "    'font-family': 'Arial'\n",
    "    \n",
    "}\n",
    "\n",
    "\n",
    "\n",
    "# paper_background on the plots and font colors / familys\n",
    "\n",
    "paper_bg = 'darkblue'\n",
    "font_color = 'lightgrey',\n",
    "font_family = 'Arial'\n",
    "\n",
    "\n",
    "\n",
    "\n",
    "app.layout = html.Div(\n",
    "    \n",
    "    style = dash_app_overall_style,\n",
    "    \n",
    "    children = [\n",
    "    \n",
    "    html.H1(\"North American Ski Resorts\", \n",
    "            style = {\n",
    "                'text-align': 'center'}),\n",
    "        \n",
    "    html.Hr(),\n",
    "        \n",
    "    html.P('Select Max Price Below'),\n",
    "    \n",
    "    dcc.Slider(\n",
    "        id='price',\n",
    "        min=am_ski['Price'].min(),\n",
    "        max=am_ski['Price'].max(),\n",
    "        step=10,\n",
    "        value=am_ski['Price'].max(),\n",
    "        marks={\n",
    "            i: {\n",
    "                'label': f'${i}',\n",
    "                'style': {'color': 'lightgrey'}\n",
    "            \n",
    "            } for i in range(am_ski['Price'].min(), \n",
    "                                         am_ski['Price'].max()+1, 10)}\n",
    "\n",
    "              ),\n",
    "    \n",
    "    dcc.Checklist(\n",
    "    \n",
    "        id='night-ski',\n",
    "        options = ['Night Ski Only'],\n",
    "        value = []\n",
    "    ),\n",
    "    \n",
    "    dcc.Graph(id='density-mapbox-total-slopes'),\n",
    "    \n",
    "    dcc.Dropdown(\n",
    "    \n",
    "        id='country-dropdown',\n",
    "        options= [{'value': country, \n",
    "                   'label': html.Span(country, style = {'bg_color': 'lightgrey',\n",
    "                                                       'color': 'darkblue',\n",
    "                                                       'font-family': 'Arial'}\n",
    "                                     \n",
    "                                     )} for country in ['Canada' , 'United States']],\n",
    "        \n",
    "        value = ['Canada' , 'United States'],\n",
    "        multi = True,\n",
    "        style={'margin-bottom': '2rem',\n",
    "              'backgroundColor': 'lightgrey'}\n",
    "    ),\n",
    "    \n",
    "    \n",
    "    dcc.RadioItems(\n",
    "    \n",
    "        id='desc-asc',\n",
    "        options = ['Ascending', 'Descending'],\n",
    "        value = 'Ascending',\n",
    "        inline = True,\n",
    "        style={'margin-bottom': '2rem'}\n",
    "    ),\n",
    "    \n",
    "    dcc.Dropdown(\n",
    "        id='field',\n",
    "        options = [{'value': col, \n",
    "                   'label': html.Span(col, style = {'bg_color': 'lightgrey',\n",
    "                                                       'color': 'darkblue',\n",
    "                                                       'font-family': 'Arial'}\n",
    "                                     \n",
    "                                     )} for col in am_ski.select_dtypes(include = 'number').columns],\n",
    "        value = 'Price',\n",
    "        style={'margin-bottom': '2rem',\n",
    "              'backgroundColor': 'lightgrey'}\n",
    "        \n",
    "        \n",
    "    \n",
    "    ),\n",
    "    \n",
    "    dcc.Graph(id='top-10-graph')\n",
    "    \n",
    "    \n",
    "])\n",
    "\n",
    "\n",
    "\n",
    "@app.callback(\n",
    "\n",
    "    Output('density-mapbox-total-slopes' , 'figure'),\n",
    "    Output('top-10-graph', 'figure'),\n",
    "    Input('price', 'value'),\n",
    "    Input('night-ski', 'value'),\n",
    "    Input('desc-asc', 'value'),\n",
    "    Input('country-dropdown', 'value'),\n",
    "    Input('field', 'value')\n",
    ")\n",
    "def create_app(price , night_ski, desc_asc , \n",
    "               country_dropdown, chosen_field):\n",
    "    \n",
    "    # deal with price\n",
    "    am_ski_price = am_ski.query(f\"Price <= @price\")\n",
    "    \n",
    "    # deal with night skiing\n",
    "    if len(night_ski) == 1:\n",
    "        \n",
    "        am_ski_price = am_ski_price.query(\"Nightskiing == 'Yes'\")\n",
    "        \n",
    "    \n",
    "    fig_mapbox = px.density_mapbox(\n",
    "    \n",
    "        am_ski_price,\n",
    "        lat=\"Latitude\",\n",
    "        lon=\"Longitude\",\n",
    "        z='Total lifts',\n",
    "        title=f'Density of Lifts based on Resorts less than {price}$',\n",
    "        mapbox_style=\"stamen-terrain\",\n",
    "        center={\"lat\": 44.5, \"lon\": -103.5},\n",
    "        zoom = 1.5,\n",
    "        hover_data = 'Resort'\n",
    "        \n",
    "    )\n",
    "    \n",
    "    \n",
    "    fig_mapbox.update_layout(\n",
    "    \n",
    "        title = {\n",
    "            \n",
    "            'font': {\n",
    "                \n",
    "                'family': 'Arial',\n",
    "                'color': 'lightgrey'\n",
    "            },\n",
    "            \n",
    "            'x': 0.45,\n",
    "            'y': 0.85\n",
    "        },\n",
    "        \n",
    "        paper_bgcolor = 'darkblue',\n",
    "        \n",
    "        coloraxis_colorbar = {\n",
    "            \n",
    "            'tickfont' : {'color': 'lightgrey'},\n",
    "            'title': {\n",
    "                'font': {\n",
    "                            'family': 'Arial',\n",
    "                            'color': 'lightgrey'\n",
    "                              \n",
    "                },\n",
    "                \n",
    "                'text': 'Total Lift Count',\n",
    "                'side': 'top',\n",
    "                \n",
    "            },\n",
    "            \n",
    "            \n",
    "            'x': 1.05\n",
    "        }\n",
    "        \n",
    "        \n",
    "        \n",
    "    )\n",
    "    \n",
    "    \n",
    "    \n",
    "    am_ski_price_country = (am_ski_price\n",
    "                            .query(\"Country in @country_dropdown\"))\n",
    "    \n",
    "    # top 10 resorts for the chosen numerical field\n",
    "    am_ski_price_country_top_10 = (\n",
    "    \n",
    "        am_ski_price_country\n",
    "        .nlargest(10 , chosen_field)\n",
    "    )\n",
    "        \n",
    "        \n",
    "    \n",
    "    \n",
    "    fig_bar = px.bar(\n",
    "    \n",
    "        am_ski_price_country_top_10,\n",
    "        x=chosen_field,\n",
    "        y='Resort',\n",
    "        color='Country',\n",
    "        title=f\"Top 10 Resorts based on {chosen_field}\",\n",
    "        color_discrete_map={'Canada': '#7F007F', \n",
    "                            'United States': '#D7B5D8'},\n",
    "        text_auto = True\n",
    "    )\n",
    "\n",
    "        \n",
    "        \n",
    "    \n",
    "    \n",
    "    \n",
    "    fig_bar.update_layout(\n",
    "    \n",
    "        title = {\n",
    "            \n",
    "            'font': {\n",
    "                \n",
    "                'family': 'Arial',\n",
    "                'color': 'lightgrey'\n",
    "            },\n",
    "            \n",
    "            'x': 0.55,\n",
    "            'y': 0.85\n",
    "        },\n",
    "        \n",
    "        paper_bgcolor = 'darkblue',\n",
    "        plot_bgcolor = 'lightgrey',\n",
    "        legend = {\n",
    "            \n",
    "            'font': {'color': 'lightgrey', 'family': 'Arial'}\n",
    "        }\n",
    "        \n",
    "    )\n",
    "    \n",
    "    fig_bar.update_xaxes(\n",
    "    \n",
    "        color='lightgrey',\n",
    "        title = 'Price ($)' if chosen_field == 'Price' else chosen_field,\n",
    "        showgrid = False\n",
    "        \n",
    "    )\n",
    "    \n",
    "    \n",
    "    fig_bar.update_yaxes(\n",
    "    \n",
    "        color='lightgrey'\n",
    "    )\n",
    "    \n",
    "    fig_bar.update_traces(\n",
    "    \n",
    "        textfont = dict(color='lightgrey')\n",
    "    )\n",
    "    \n",
    "    \n",
    "    \n",
    "    # specify the order of the resorts on the y-axis\n",
    "    # we do the ascending and descending this way to prevent the issue\n",
    "    # above\n",
    "    if desc_asc == 'Descending':\n",
    "        \n",
    "        fig_bar.update_layout(yaxis={'categoryorder':'total descending'})\n",
    "\n",
    "    else:\n",
    "        fig_bar.update_layout(yaxis={'categoryorder':'total ascending'})\n",
    "        \n",
    "    \n",
    "    \n",
    "    return fig_mapbox, fig_bar\n",
    "\n",
    "if __name__ == '__main__':\n",
    "    \n",
    "    app.run_server(mode='inline', debug = True, port = 9987)\n",
    "\n"
   ]
  },
  {
   "cell_type": "markdown",
   "id": "e9e5d9e0",
   "metadata": {},
   "source": [
    "## Dash Bootstrap Components"
   ]
  },
  {
   "cell_type": "markdown",
   "id": "779cd364",
   "metadata": {},
   "source": [
    "dash bootstrap component librayry (dbc) allows us to make cohesive styling, built in padding around components and a grid based framework"
   ]
  },
  {
   "cell_type": "markdown",
   "id": "b9f07bca",
   "metadata": {},
   "source": [
    "Example components (all start with 'dbc.'):\n",
    "  - themes() : pre build css styles sheets\n",
    "  - Container() : equivalent of div for style wrapper\n",
    "  - Row() : horizontal row inside container\n",
    "  - Col() : column inside container\n",
    "  - Tabs() : creates different tabs for navigation\n",
    "  - Card() : container to add polish and padding"
   ]
  },
  {
   "cell_type": "code",
   "execution_count": 98,
   "id": "42c5a18a",
   "metadata": {},
   "outputs": [],
   "source": [
    "from dash_bootstrap_templates import load_figure_template\n",
    "import dash_bootstrap_components as dbc\n"
   ]
  },
  {
   "cell_type": "code",
   "execution_count": 205,
   "id": "bef600ae",
   "metadata": {},
   "outputs": [
    {
     "data": {
      "text/html": [
       "<div>\n",
       "<style scoped>\n",
       "    .dataframe tbody tr th:only-of-type {\n",
       "        vertical-align: middle;\n",
       "    }\n",
       "\n",
       "    .dataframe tbody tr th {\n",
       "        vertical-align: top;\n",
       "    }\n",
       "\n",
       "    .dataframe thead th {\n",
       "        text-align: right;\n",
       "    }\n",
       "</style>\n",
       "<table border=\"1\" class=\"dataframe\">\n",
       "  <thead>\n",
       "    <tr style=\"text-align: right;\">\n",
       "      <th></th>\n",
       "      <th>PRIMARY_KEY</th>\n",
       "      <th>STATE</th>\n",
       "      <th>YEAR</th>\n",
       "      <th>ENROLL</th>\n",
       "      <th>TOTAL_REVENUE</th>\n",
       "      <th>FEDERAL_REVENUE</th>\n",
       "      <th>STATE_REVENUE</th>\n",
       "      <th>LOCAL_REVENUE</th>\n",
       "      <th>TOTAL_EXPENDITURE</th>\n",
       "      <th>INSTRUCTION_EXPENDITURE</th>\n",
       "      <th>...</th>\n",
       "      <th>GRADES_4_G</th>\n",
       "      <th>GRADES_8_G</th>\n",
       "      <th>GRADES_12_G</th>\n",
       "      <th>GRADES_1_8_G</th>\n",
       "      <th>GRADES_9_12_G</th>\n",
       "      <th>GRADES_ALL_G</th>\n",
       "      <th>AVG_MATH_4_SCORE</th>\n",
       "      <th>AVG_MATH_8_SCORE</th>\n",
       "      <th>AVG_READING_4_SCORE</th>\n",
       "      <th>AVG_READING_8_SCORE</th>\n",
       "    </tr>\n",
       "  </thead>\n",
       "  <tbody>\n",
       "    <tr>\n",
       "      <th>0</th>\n",
       "      <td>1992_ALABAMA</td>\n",
       "      <td>ALABAMA</td>\n",
       "      <td>1992</td>\n",
       "      <td>NaN</td>\n",
       "      <td>2678885.0</td>\n",
       "      <td>304177.0</td>\n",
       "      <td>1659028.0</td>\n",
       "      <td>715680.0</td>\n",
       "      <td>2653798.0</td>\n",
       "      <td>1481703.0</td>\n",
       "      <td>...</td>\n",
       "      <td>57948.0</td>\n",
       "      <td>58025.0</td>\n",
       "      <td>41167.0</td>\n",
       "      <td>NaN</td>\n",
       "      <td>NaN</td>\n",
       "      <td>731634.0</td>\n",
       "      <td>208.0</td>\n",
       "      <td>252.0</td>\n",
       "      <td>207.0</td>\n",
       "      <td>NaN</td>\n",
       "    </tr>\n",
       "    <tr>\n",
       "      <th>1</th>\n",
       "      <td>1992_ALASKA</td>\n",
       "      <td>ALASKA</td>\n",
       "      <td>1992</td>\n",
       "      <td>NaN</td>\n",
       "      <td>1049591.0</td>\n",
       "      <td>106780.0</td>\n",
       "      <td>720711.0</td>\n",
       "      <td>222100.0</td>\n",
       "      <td>972488.0</td>\n",
       "      <td>498362.0</td>\n",
       "      <td>...</td>\n",
       "      <td>9748.0</td>\n",
       "      <td>8789.0</td>\n",
       "      <td>6714.0</td>\n",
       "      <td>NaN</td>\n",
       "      <td>NaN</td>\n",
       "      <td>122487.0</td>\n",
       "      <td>NaN</td>\n",
       "      <td>NaN</td>\n",
       "      <td>NaN</td>\n",
       "      <td>NaN</td>\n",
       "    </tr>\n",
       "    <tr>\n",
       "      <th>2</th>\n",
       "      <td>1992_ARIZONA</td>\n",
       "      <td>ARIZONA</td>\n",
       "      <td>1992</td>\n",
       "      <td>NaN</td>\n",
       "      <td>3258079.0</td>\n",
       "      <td>297888.0</td>\n",
       "      <td>1369815.0</td>\n",
       "      <td>1590376.0</td>\n",
       "      <td>3401580.0</td>\n",
       "      <td>1435908.0</td>\n",
       "      <td>...</td>\n",
       "      <td>55433.0</td>\n",
       "      <td>49081.0</td>\n",
       "      <td>37410.0</td>\n",
       "      <td>NaN</td>\n",
       "      <td>NaN</td>\n",
       "      <td>673477.0</td>\n",
       "      <td>215.0</td>\n",
       "      <td>265.0</td>\n",
       "      <td>209.0</td>\n",
       "      <td>NaN</td>\n",
       "    </tr>\n",
       "    <tr>\n",
       "      <th>3</th>\n",
       "      <td>1992_ARKANSAS</td>\n",
       "      <td>ARKANSAS</td>\n",
       "      <td>1992</td>\n",
       "      <td>NaN</td>\n",
       "      <td>1711959.0</td>\n",
       "      <td>178571.0</td>\n",
       "      <td>958785.0</td>\n",
       "      <td>574603.0</td>\n",
       "      <td>1743022.0</td>\n",
       "      <td>964323.0</td>\n",
       "      <td>...</td>\n",
       "      <td>34632.0</td>\n",
       "      <td>36011.0</td>\n",
       "      <td>27651.0</td>\n",
       "      <td>NaN</td>\n",
       "      <td>NaN</td>\n",
       "      <td>441490.0</td>\n",
       "      <td>210.0</td>\n",
       "      <td>256.0</td>\n",
       "      <td>211.0</td>\n",
       "      <td>NaN</td>\n",
       "    </tr>\n",
       "    <tr>\n",
       "      <th>4</th>\n",
       "      <td>1992_CALIFORNIA</td>\n",
       "      <td>CALIFORNIA</td>\n",
       "      <td>1992</td>\n",
       "      <td>NaN</td>\n",
       "      <td>26260025.0</td>\n",
       "      <td>2072470.0</td>\n",
       "      <td>16546514.0</td>\n",
       "      <td>7641041.0</td>\n",
       "      <td>27138832.0</td>\n",
       "      <td>14358922.0</td>\n",
       "      <td>...</td>\n",
       "      <td>418418.0</td>\n",
       "      <td>363296.0</td>\n",
       "      <td>270675.0</td>\n",
       "      <td>NaN</td>\n",
       "      <td>NaN</td>\n",
       "      <td>5254844.0</td>\n",
       "      <td>208.0</td>\n",
       "      <td>261.0</td>\n",
       "      <td>202.0</td>\n",
       "      <td>NaN</td>\n",
       "    </tr>\n",
       "  </tbody>\n",
       "</table>\n",
       "<p>5 rows × 25 columns</p>\n",
       "</div>"
      ],
      "text/plain": [
       "       PRIMARY_KEY       STATE  YEAR  ENROLL  TOTAL_REVENUE  FEDERAL_REVENUE   \n",
       "0     1992_ALABAMA     ALABAMA  1992     NaN      2678885.0         304177.0  \\\n",
       "1      1992_ALASKA      ALASKA  1992     NaN      1049591.0         106780.0   \n",
       "2     1992_ARIZONA     ARIZONA  1992     NaN      3258079.0         297888.0   \n",
       "3    1992_ARKANSAS    ARKANSAS  1992     NaN      1711959.0         178571.0   \n",
       "4  1992_CALIFORNIA  CALIFORNIA  1992     NaN     26260025.0        2072470.0   \n",
       "\n",
       "   STATE_REVENUE  LOCAL_REVENUE  TOTAL_EXPENDITURE  INSTRUCTION_EXPENDITURE   \n",
       "0      1659028.0       715680.0          2653798.0                1481703.0  \\\n",
       "1       720711.0       222100.0           972488.0                 498362.0   \n",
       "2      1369815.0      1590376.0          3401580.0                1435908.0   \n",
       "3       958785.0       574603.0          1743022.0                 964323.0   \n",
       "4     16546514.0      7641041.0         27138832.0               14358922.0   \n",
       "\n",
       "   ...  GRADES_4_G  GRADES_8_G  GRADES_12_G  GRADES_1_8_G  GRADES_9_12_G   \n",
       "0  ...     57948.0     58025.0      41167.0           NaN            NaN  \\\n",
       "1  ...      9748.0      8789.0       6714.0           NaN            NaN   \n",
       "2  ...     55433.0     49081.0      37410.0           NaN            NaN   \n",
       "3  ...     34632.0     36011.0      27651.0           NaN            NaN   \n",
       "4  ...    418418.0    363296.0     270675.0           NaN            NaN   \n",
       "\n",
       "   GRADES_ALL_G  AVG_MATH_4_SCORE  AVG_MATH_8_SCORE  AVG_READING_4_SCORE   \n",
       "0      731634.0             208.0             252.0                207.0  \\\n",
       "1      122487.0               NaN               NaN                  NaN   \n",
       "2      673477.0             215.0             265.0                209.0   \n",
       "3      441490.0             210.0             256.0                211.0   \n",
       "4     5254844.0             208.0             261.0                202.0   \n",
       "\n",
       "   AVG_READING_8_SCORE  \n",
       "0                  NaN  \n",
       "1                  NaN  \n",
       "2                  NaN  \n",
       "3                  NaN  \n",
       "4                  NaN  \n",
       "\n",
       "[5 rows x 25 columns]"
      ]
     },
     "execution_count": 205,
     "metadata": {},
     "output_type": "execute_result"
    }
   ],
   "source": [
    "url = r'/Users/chrismembrey/Desktop/DS/projects/plotly_dash_course/Course_Materials/Data/states_all.csv'\n",
    "education = pd.read_csv(url)\n",
    "education.head()"
   ]
  },
  {
   "attachments": {
    "Screenshot%202023-04-20%20at%2011.34.08.png": {
     "image/png": "[encoded data removed]"
    }
   },
   "cell_type": "markdown",
   "id": "1583bebe",
   "metadata": {},
   "source": [
    "### Themes \n",
    "\n",
    "\n",
    "26 themes availible![Screenshot%202023-04-20%20at%2011.34.08.png](attachment:Screenshot%202023-04-20%20at%2011.34.08.png)"
   ]
  },
  {
   "cell_type": "code",
   "execution_count": 155,
   "id": "62c83172",
   "metadata": {},
   "outputs": [
    {
     "name": "stdout",
     "output_type": "stream",
     "text": [
      "Dash is running on http://127.0.0.1:8111/\n",
      "\n"
     ]
    },
    {
     "data": {
      "text/html": [
       "\n",
       "        <iframe\n",
       "            width=\"100%\"\n",
       "            height=\"650\"\n",
       "            src=\"http://127.0.0.1:8111/\"\n",
       "            frameborder=\"0\"\n",
       "            allowfullscreen\n",
       "            \n",
       "        ></iframe>\n",
       "        "
      ],
      "text/plain": [
       "<IPython.lib.display.IFrame at 0x12ef6e3d0>"
      ]
     },
     "metadata": {},
     "output_type": "display_data"
    }
   ],
   "source": [
    "load_figure_template(\"SLATE\")\n",
    "\n",
    "# external styles link\n",
    "dbc_css = \"https://cdn.jsdelivr.net/gh/AnnMarieW/dash-bootstrap-templates/dbc.min.css\"\n",
    "\n",
    "app = JupyterDash(__name__, \n",
    "                  # note this difference\n",
    "                  external_stylesheets=[dbc.themes.SLATE, dbc_css] \n",
    "                 )\n",
    "\n",
    "\n",
    "app.layout = html.Div(\n",
    "    children=[\n",
    "        html.H2(id=\"Header Text\"),\n",
    "        html.Hr(),\n",
    "        html.P(\"Select a State Below\", id='instructions'),\n",
    "        dcc.Dropdown(\n",
    "            options=[\"Alabama\", \"Alaska\", \"Arkansas\"],\n",
    "            value=\"Alabama\",\n",
    "            id=\"State Dropdown\",\n",
    "            # to apply themes to dcc components you need to call\n",
    "            # ClassName = 'dbc' to them\n",
    "            className=\"dbc\"\n",
    "        ),\n",
    "        dcc.Graph(id=\"Revenue Line\"),\n",
    "        html.P(\"Important footnote about the data\", style={\"fontsize\": 8})\n",
    "])\n",
    "\n",
    "@app.callback(\n",
    "    Output(\"Header Text\", \"children\"),\n",
    "    Output(\"Revenue Line\", \"figure\"),\n",
    "    Input(\"State Dropdown\", \"value\")\n",
    ")\n",
    "\n",
    "def plot_bar_clar(state):\n",
    "    if not state:\n",
    "        raise PreventUpdate\n",
    "    df=education.loc[\n",
    "        (education[\"STATE\"]==state.upper()) & (education[\"YEAR\"].between(1992, 2017))\n",
    "    ]\n",
    "    fig=px.line(df,x=\"YEAR\", y=\"GRADES_ALL_G\")\n",
    "\n",
    "    title = f\"Enrollment over time in {state.title()}\"\n",
    "    return title, fig\n",
    "\n",
    "app.run_server(debug=True, mode=\"inline\", port=8111,)"
   ]
  },
  {
   "cell_type": "markdown",
   "id": "a981c66a",
   "metadata": {},
   "source": [
    "**important to note**: you can still overwrite the themes!"
   ]
  },
  {
   "cell_type": "markdown",
   "id": "31ff76eb",
   "metadata": {},
   "source": [
    "### Grid Based Layouts"
   ]
  },
  {
   "cell_type": "markdown",
   "id": "d3284efc",
   "metadata": {},
   "source": [
    "rows and columns let you crate grids\n",
    "\n",
    "- height of row = hieght of content EG text or graph size\n",
    "- width of each col specified or distributed evenly by default"
   ]
  },
  {
   "cell_type": "code",
   "execution_count": 107,
   "id": "97cfa0fe",
   "metadata": {},
   "outputs": [
    {
     "name": "stdout",
     "output_type": "stream",
     "text": [
      "Dash is running on http://127.0.0.1:9123/\n",
      "\n"
     ]
    },
    {
     "data": {
      "text/html": [
       "\n",
       "        <iframe\n",
       "            width=\"100%\"\n",
       "            height=\"650\"\n",
       "            src=\"http://127.0.0.1:9123/\"\n",
       "            frameborder=\"0\"\n",
       "            allowfullscreen\n",
       "            \n",
       "        ></iframe>\n",
       "        "
      ],
      "text/plain": [
       "<IPython.lib.display.IFrame at 0x12e8aa490>"
      ]
     },
     "metadata": {},
     "output_type": "display_data"
    }
   ],
   "source": [
    "app = JupyterDash(__name__,  external_stylesheets=[dbc.themes.SLATE])\n",
    "\n",
    "app.layout = dbc.Container([\n",
    "    dbc.Row(\n",
    "        dcc.Markdown(\n",
    "        '''\n",
    "        ## A Row without columns spans the whole app!\n",
    "        '''\n",
    "        ),\n",
    "    ),\n",
    "    dbc.Row(\n",
    "        [\n",
    "            dbc.Col(dbc.Card(\"Width equal if not specified\")), \n",
    "            dbc.Col(dbc.Card(\"Because total width is 12\")), \n",
    "            dbc.Col(dbc.Card(\"3 Cols each have width 4\")), \n",
    "    ]),\n",
    "    dbc.Row(\n",
    "        [\n",
    "            dbc.Col(dbc.Card(\"Width is 6\"), width=6), \n",
    "            dbc.Col(dbc.Card(\"Width is 3\"), width=3), \n",
    "            dbc.Col(dbc.Card(\"Width is 3\"), width=3), \n",
    "        ]\n",
    "    )\n",
    "]) \n",
    "\n",
    "app.run_server(debug=True, mode=\"inline\", port=9123)"
   ]
  },
  {
   "cell_type": "markdown",
   "id": "e28fba3f",
   "metadata": {},
   "source": [
    "Note the boxes around our bits of text, these are the dbc.Card() functions! These can help you see where the columns end and begin, it will help you structure!"
   ]
  },
  {
   "cell_type": "markdown",
   "id": "88885cec",
   "metadata": {},
   "source": [
    "#### Multiple Tabs"
   ]
  },
  {
   "cell_type": "markdown",
   "id": "68f0e475",
   "metadata": {},
   "source": [
    "you can use either dcc.Tabs() or dcc.Tab()"
   ]
  },
  {
   "cell_type": "markdown",
   "id": "927d3e16",
   "metadata": {},
   "source": [
    "'dcc.Tabs' and 'dcc.Tab' are components in the Dash framework used for creating tabbed interfaces in web applications.\n",
    "\n",
    "**dcc.Tabs** is used to **create the container** for the tabbed interface, and it accepts a list of dcc.Tab components as its children. It provides the overall layout and behavior for the tabs, such as the style, the default tab to be displayed, and the callback to be triggered when a tab is selected.\n",
    "\n",
    "**dcc.Tab**, on the other hand, is used to **create individual tabs** within dcc.Tabs container. It accepts a label (the text displayed on the tab) and a unique identifier for the tab (the value that is passed to the callback when the tab is selected). dcc.Tab allows for customization of the content within each individual tab, including other Dash components, such as graphs and tables.\n",
    "\n",
    "In summary, dcc.Tabs creates the overall container for the tabbed interface, while dcc.Tab creates individual tabs and their contents within that container."
   ]
  },
  {
   "cell_type": "markdown",
   "id": "d845ae25",
   "metadata": {},
   "source": [
    "Example Below:"
   ]
  },
  {
   "cell_type": "code",
   "execution_count": 316,
   "id": "ebde794b",
   "metadata": {},
   "outputs": [
    {
     "name": "stdout",
     "output_type": "stream",
     "text": [
      "Dash is running on http://127.0.0.1:9900/\n",
      "\n"
     ]
    },
    {
     "data": {
      "text/html": [
       "\n",
       "        <iframe\n",
       "            width=\"100%\"\n",
       "            height=\"650\"\n",
       "            src=\"http://127.0.0.1:9900/\"\n",
       "            frameborder=\"0\"\n",
       "            allowfullscreen\n",
       "            \n",
       "        ></iframe>\n",
       "        "
      ],
      "text/plain": [
       "<IPython.lib.display.IFrame at 0x143557050>"
      ]
     },
     "metadata": {},
     "output_type": "display_data"
    }
   ],
   "source": [
    "\n",
    "app = JupyterDash(__name__, external_stylesheets=[dbc.themes.SLATE])\n",
    "\n",
    "# Define the content for each tab\n",
    "tab1_content = html.Div([\n",
    "    html.H3('Tab 1'),\n",
    "    html.P('This is the content of Tab 1')\n",
    "])\n",
    "\n",
    "tab2_content = html.Div([\n",
    "    html.H3('Tab 2'),\n",
    "    html.P('This is the content of Tab 2')\n",
    "])\n",
    "\n",
    "\n",
    "# Define the layout of the app with dcc.Tabs and dcc.Tab\n",
    "app.layout = html.Div([\n",
    "    dcc.Tabs(id='tabs', value='tab-1', children=[\n",
    "        dcc.Tab(label='Tab 1', value='tab-1', children=tab1_content),\n",
    "        dcc.Tab(label='Tab 2', value='tab-2', children=tab2_content)\n",
    "    ]),\n",
    "    html.Div(id='tab-content')\n",
    "])\n",
    "\n",
    "# Define the callback to display the content of the selected tab\n",
    "@app.callback(Output('tab-content', 'children'),\n",
    "              [Input('tabs', 'value')])\n",
    "def display_tab_content(value):\n",
    "    if value == 'tab-1':\n",
    "        return \"Displaying Tab 1\"\n",
    "    elif value == 'tab-2':\n",
    "        return \"Displaying Tab 2\"\n",
    "\n",
    "if __name__ == '__main__':\n",
    "    app.run_server(debug=True, port = 9900, mode = 'inline')"
   ]
  },
  {
   "cell_type": "code",
   "execution_count": 313,
   "id": "7e9f9508",
   "metadata": {
    "scrolled": true
   },
   "outputs": [
    {
     "name": "stdout",
     "output_type": "stream",
     "text": [
      "Dash is running on http://127.0.0.1:9093/\n",
      "\n"
     ]
    },
    {
     "data": {
      "text/html": [
       "\n",
       "        <iframe\n",
       "            width=\"100%\"\n",
       "            height=\"650\"\n",
       "            src=\"http://127.0.0.1:9093/\"\n",
       "            frameborder=\"0\"\n",
       "            allowfullscreen\n",
       "            \n",
       "        ></iframe>\n",
       "        "
      ],
      "text/plain": [
       "<IPython.lib.display.IFrame at 0x1430f6490>"
      ]
     },
     "metadata": {},
     "output_type": "display_data"
    }
   ],
   "source": [
    "load_figure_template(\"SLATE\")\n",
    "\n",
    "# external styles link\n",
    "dbc_css = \"https://cdn.jsdelivr.net/gh/AnnMarieW/dash-bootstrap-templates/dbc.min.css\"\n",
    "\n",
    "\n",
    "app = JupyterDash(__name__, external_stylesheets=[dbc.themes.SLATE, dbc_css])\n",
    "\n",
    "\n",
    "\n",
    "# Load the iris dataset\n",
    "iris = pd.read_csv('https://raw.githubusercontent.com/mwaskom/seaborn-data/master/iris.csv')\n",
    "\n",
    "\n",
    "# define the tabs in a similar manner to how you layout an individual\n",
    "# dashboard\n",
    "\n",
    "# define tab 1\n",
    "\n",
    "tab_1 = [\n",
    "    \n",
    " html.H3('Scatter Plot'),\n",
    "html.Label('X-Axis'),\n",
    "dcc.Dropdown(\n",
    "    id='scatter-x-axis',\n",
    "    options=[{'label': col, 'value': col} for col in iris.columns],\n",
    "    value='sepal_length',\n",
    "    className='dbc'\n",
    "),\n",
    "html.Label('Y-Axis'),\n",
    "dcc.Dropdown(\n",
    "    id='scatter-y-axis',\n",
    "    options=[{'label': col, 'value': col} for col in iris.columns],\n",
    "    value='sepal_width',\n",
    "    className='dbc'\n",
    "),\n",
    "dcc.Graph(id='scatter-graph')\n",
    "]\n",
    "\n",
    "\n",
    "# define tab 2\n",
    "\n",
    "tab_2 = [\n",
    "    html.H3('Bar Chart'),\n",
    "    html.Label('X-Axis'),\n",
    "    dcc.Dropdown(\n",
    "        id='bar-x-axis',\n",
    "        options=[{'label': col, 'value': col} for col in iris.columns],\n",
    "        value='species',\n",
    "        className='dbc'\n",
    "    ),\n",
    "    dcc.Graph(id='bar-graph')\n",
    "        ]\n",
    "\n",
    "\n",
    "\n",
    "\n",
    "# Define the layout of the app with dcc.Tabs and dcc.Tab\n",
    "app.layout = html.Div([\n",
    "    dcc.Tabs(id='tabs', value='tab-1', className='dbc' ,children=[\n",
    "        \n",
    "        dcc.Tab(label='Scatter Plot', value='tab-1', \n",
    "                className='dbc', children=tab_1, \n",
    "                \n",
    "               ),\n",
    "        \n",
    "        dcc.Tab(label='Bar Chart', value='tab-2', \n",
    "                className='dbc', children=tab_2, \n",
    "                \n",
    "               )\n",
    "    ], vertical = False)\n",
    "])\n",
    "\n",
    "# Define the callbacks to update the charts based on the dropdown selections\n",
    "@app.callback(\n",
    "    Output('scatter-graph', 'figure'),\n",
    "    [Input('scatter-x-axis', 'value'),\n",
    "     Input('scatter-y-axis', 'value')])\n",
    "def update_scatter_graph(x_col, y_col):\n",
    "    fig = px.scatter(iris, x=x_col, y=y_col, \n",
    "                     color='species', title='Scatter Plot')\n",
    "    return fig\n",
    "\n",
    "\n",
    "# note: you can do multiple callbacks and functions, not just 1!\n",
    "@app.callback(\n",
    "    Output('bar-graph', 'figure'),\n",
    "    [Input('bar-x-axis', 'value')])\n",
    "def update_bar_graph(x_col):\n",
    "    fig = px.histogram(iris, x=x_col, \n",
    "                       color='species', title='Bar Chart')\n",
    "    return fig\n",
    "\n",
    "\n",
    "\n",
    "if __name__ == '__main__':\n",
    "    \n",
    "    app.run_server(debug=True, port = 9093, mode = 'inline')"
   ]
  },
  {
   "cell_type": "markdown",
   "id": "546cacd6",
   "metadata": {
    "heading_collapsed": true
   },
   "source": [
    "#### Assignment: DBC Components"
   ]
  },
  {
   "cell_type": "code",
   "execution_count": 168,
   "id": "d7aa7193",
   "metadata": {
    "hidden": true
   },
   "outputs": [
    {
     "name": "stdout",
     "output_type": "stream",
     "text": [
      "Dash is running on http://127.0.0.1:8315/\n",
      "\n"
     ]
    },
    {
     "data": {
      "text/html": [
       "\n",
       "        <iframe\n",
       "            width=\"100%\"\n",
       "            height=\"650\"\n",
       "            src=\"http://127.0.0.1:8315/\"\n",
       "            frameborder=\"0\"\n",
       "            allowfullscreen\n",
       "            \n",
       "        ></iframe>\n",
       "        "
      ],
      "text/plain": [
       "<IPython.lib.display.IFrame at 0x12e62f890>"
      ]
     },
     "metadata": {},
     "output_type": "display_data"
    }
   ],
   "source": [
    "url = r'/Users/chrismembrey/Desktop/DS/projects/plotly_dash_course/Course_Materials/Data/European_Ski_Resorts.csv'\n",
    "\n",
    "\n",
    "ski_resorts = pd.read_csv(url).drop(\"Unnamed: 0\", axis=1)\n",
    "\n",
    "dbc_css = \"https://cdn.jsdelivr.net/gh/AnnMarieW/dash-bootstrap-templates/dbc.min.css\"\n",
    "\n",
    "app = JupyterDash(__name__, external_stylesheets=[dbc.themes.SLATE, dbc_css])\n",
    "\n",
    "load_figure_template(\"SLATE\")\n",
    "\n",
    "app.layout = dbc.Container(\n",
    "    [\n",
    "        dbc.Row(\n",
    "            [\n",
    "                dbc.Col(width=3),\n",
    "                dbc.Col(\n",
    "                    html.H2(id=\"title\", style={\"text-align\": \"center\"})\n",
    "                )\n",
    "            ]\n",
    "        ),\n",
    "        dbc.Row(\n",
    "            [\n",
    "                dbc.Col(\n",
    "                    [\n",
    "                        html.P(\"Select Options Below:\"),\n",
    "                        html.Hr(),\n",
    "                        dcc.Slider(\n",
    "                            id=\"Elevation Slider\",\n",
    "                            min=0,\n",
    "                            max=4000,\n",
    "                            step=500,\n",
    "                            value=500,\n",
    "                            marks={i:{\"label\": f'{i}m'} for i in range(0, 4001, 1000)},\n",
    "                            className=\"dbc\"\n",
    "                        ),\n",
    "                        html.Br(),\n",
    "                        dcc.Checklist(\n",
    "                            id=\"Feature Checklist\",\n",
    "                            options=[\"Has Snow Park\", \"Has Night Ski\"], \n",
    "                            value=[\"Has Snow Park\", \"Has Night Ski\"], \n",
    "                        )\n",
    "                    ], width=4),\n",
    "                dbc.Col(dbc.Card(dcc.Graph(id=\"graph\")), width=7)\n",
    "            ]\n",
    "        )\n",
    "    ]\n",
    ")\n",
    "\n",
    "@app.callback(\n",
    "    Output('title', 'children'),\n",
    "    Output('graph', 'figure'),\n",
    "    Input(\"Elevation Slider\", \"value\"),\n",
    "    Input(\"Feature Checklist\", \"value\"),\n",
    ")\n",
    "\n",
    "def plot_resort_count(elevation, features):\n",
    "\n",
    "    ski_resorts_filtered = ski_resorts.query(\"HighestPoint > @elevation\")\n",
    "    \n",
    "    title = f\"Ski Resorts with Elevation Over {elevation}M Max Elevation\"\n",
    "    \n",
    "    if features == []:\n",
    "        df = (ski_resorts_filtered\n",
    "              .groupby(\"Country\", as_index=False)\n",
    "              .agg(ResortCount= (\"Country\", \"count\"))\n",
    "             )\n",
    "    elif len(features)==2:\n",
    "        df = (ski_resorts_filtered\n",
    "              .query(\"Snowparks == 'Yes' and NightSki == 'Yes'\")\n",
    "              .groupby(\"Country\", as_index=False)\n",
    "              .agg(ResortCount= (\"Country\", \"count\"))\n",
    "             )\n",
    "    elif features == [\"Has Snow Park\"]:\n",
    "        df = (ski_resorts_filtered\n",
    "              .query(\"Snowparks == 'Yes'\")\n",
    "              .groupby(\"Country\", as_index=False)\n",
    "              .agg(ResortCount= (\"Country\", \"count\"))\n",
    "             )\n",
    "    else:\n",
    "        df = (ski_resorts_filtered\n",
    "              .query(\"NightSki == 'Yes'\")\n",
    "              .groupby(\"Country\", as_index=False)\n",
    "              .agg(ResortCount= (\"Country\", \"count\"))\n",
    "             )\n",
    "    fig = px.choropleth(\n",
    "        df,\n",
    "        locations=\"Country\",\n",
    "        color=\"ResortCount\",\n",
    "        locationmode=\"country names\",\n",
    "        scope=\"europe\"\n",
    "    ).update_geos(fitbounds=\"locations\").update_layout(\n",
    "        margin={\"r\":0,\"t\":0,\"l\":0,\"b\":0}, \n",
    "        coloraxis_colorbar_x=.85,\n",
    "        geo_bgcolor=\"lightblue\",\n",
    "#         paper_bgcolor=\"darkblue\",\n",
    "        width=1000,\n",
    "        height=600\n",
    "\n",
    "    )\n",
    "\n",
    "    return title, fig \n",
    "    \n",
    "if __name__ == \"__main__\":\n",
    "    app.run_server(debug=True, port=8315, mode='inline')"
   ]
  },
  {
   "cell_type": "markdown",
   "id": "f3cba967",
   "metadata": {},
   "source": [
    "# Advanced Topics"
   ]
  },
  {
   "cell_type": "markdown",
   "id": "7fbc90e6",
   "metadata": {},
   "source": [
    "Topics being Covered:\n",
    " - Data Tables\n",
    " - Advanced Callbacks\n",
    " - App Deployment"
   ]
  },
  {
   "cell_type": "markdown",
   "id": "3d38cb5c",
   "metadata": {
    "heading_collapsed": true
   },
   "source": [
    "### Data Tables"
   ]
  },
  {
   "cell_type": "markdown",
   "id": "df5ba957",
   "metadata": {
    "hidden": true
   },
   "source": [
    "you can embed datatables into your dash application"
   ]
  },
  {
   "cell_type": "code",
   "execution_count": 191,
   "id": "fee0b4b3",
   "metadata": {
    "hidden": true
   },
   "outputs": [
    {
     "name": "stdout",
     "output_type": "stream",
     "text": [
      "Dash is running on http://127.0.0.1:5367/\n",
      "\n"
     ]
    },
    {
     "data": {
      "text/html": [
       "\n",
       "        <iframe\n",
       "            width=\"100%\"\n",
       "            height=\"650\"\n",
       "            src=\"http://127.0.0.1:5367/\"\n",
       "            frameborder=\"0\"\n",
       "            allowfullscreen\n",
       "            \n",
       "        ></iframe>\n",
       "        "
      ],
      "text/plain": [
       "<IPython.lib.display.IFrame at 0x12e20ddd0>"
      ]
     },
     "metadata": {},
     "output_type": "display_data"
    }
   ],
   "source": [
    "from dash import dash_table\n",
    "\n",
    "app = JupyterDash(__name__)\n",
    "\n",
    "app.layout = html.Div([\n",
    "    \n",
    "    dash_table.DataTable(\n",
    "    \n",
    "        columns = [{'name': i, 'id': i} for i in education.columns],\n",
    "        data = education.to_dict('records'),\n",
    "        filter_action = 'native',\n",
    "        sort_action = 'native', \n",
    "        export_format = 'xlsx',\n",
    "    )\n",
    "    \n",
    "])\n",
    "\n",
    "\n",
    "app.run_server(mode='inline', debug = True, port = 5367)"
   ]
  },
  {
   "cell_type": "code",
   "execution_count": 196,
   "id": "57169107",
   "metadata": {
    "hidden": true
   },
   "outputs": [
    {
     "name": "stdout",
     "output_type": "stream",
     "text": [
      "Dash is running on http://127.0.0.1:1367/\n",
      "\n"
     ]
    },
    {
     "data": {
      "text/html": [
       "\n",
       "        <iframe\n",
       "            width=\"100%\"\n",
       "            height=\"650\"\n",
       "            src=\"http://127.0.0.1:1367/\"\n",
       "            frameborder=\"0\"\n",
       "            allowfullscreen\n",
       "            \n",
       "        ></iframe>\n",
       "        "
      ],
      "text/plain": [
       "<IPython.lib.display.IFrame at 0x144b58a50>"
      ]
     },
     "metadata": {},
     "output_type": "display_data"
    }
   ],
   "source": [
    "from dash import dash_table\n",
    "\n",
    "app = JupyterDash(__name__, external_stylesheets=[dbc.themes.SLATE, dbc_css])\n",
    "\n",
    "\n",
    "app.layout = dbc.Container([\n",
    "    \n",
    "    dbc.Table.from_dataframe(\n",
    "    \n",
    "        education,\n",
    "        striped = True,\n",
    "        bordered = True,\n",
    "        hover = True,\n",
    "        color = 'dark',\n",
    "        class_name = 'dbc'\n",
    "    )\n",
    "    \n",
    "])\n",
    "\n",
    "\n",
    "app.run_server(mode='inline', debug = True, port = 1367)"
   ]
  },
  {
   "cell_type": "markdown",
   "id": "45c478ef",
   "metadata": {
    "hidden": true
   },
   "source": [
    "in an app with callback functions, the datatable should be an output into an html.Div element"
   ]
  },
  {
   "cell_type": "markdown",
   "id": "8a2e7451",
   "metadata": {},
   "source": [
    "### Advanced Callback Functions"
   ]
  },
  {
   "cell_type": "markdown",
   "id": "42454596",
   "metadata": {},
   "source": [
    "different types:\n",
    " - **Conditional** : return different components to front end depending on logic\n",
    " - **Chained** : modify options in interactive elements based on the option selected in another\n",
    " - **Cross-Filtering** : filter figues based on the data selected in another figure\n",
    " - **Manual** : prevent app updates untill user initiates callback process\n",
    " - **Periodic** : updates the app by initiating the callback process at fixed time intervals"
   ]
  },
  {
   "cell_type": "markdown",
   "id": "584dbd2d",
   "metadata": {
    "heading_collapsed": true
   },
   "source": [
    "##### conditional"
   ]
  },
  {
   "cell_type": "markdown",
   "id": "20877db1",
   "metadata": {
    "hidden": true
   },
   "source": [
    "<code>app.layout = html.Div([\n",
    "    dcc.RadioItems(\n",
    "        id=\"OutputPicker\",\n",
    "        options=[\"bar\", \"table\"],\n",
    "        value=\"bar\"\n",
    "    ),\n",
    "    html.Div(id=\"Output Div\")    \n",
    "])</code>\n",
    "\n",
    "<code>@app.callback(Output(\"Output Div\", \"children\"), Input(\"OutputPicker\", \"value\"))\n",
    "def output_generator(output_style):\n",
    "    if output_style == \"bar\":\n",
    "        output = dcc.Graph(figure=px.bar(df, x=\"STATE\", y=\"TOTAL_EXPENDITURE\")) \n",
    "    else:\n",
    "        output = dash_table.DataTable(         \n",
    "    columns=[{\"name\": i, \"id\": i} for i in df.columns],\n",
    "    data=df.to_dict(\"records\"),\n",
    "    style_header=style,\n",
    "    style_data=style\n",
    "        )\n",
    "    return output  \n",
    "\n",
    "app.run_server(debug=True, port=8283)</code>"
   ]
  },
  {
   "cell_type": "markdown",
   "id": "4024fdf6",
   "metadata": {
    "heading_collapsed": true
   },
   "source": [
    "##### Chained"
   ]
  },
  {
   "cell_type": "markdown",
   "id": "babfb9ac",
   "metadata": {
    "hidden": true
   },
   "source": [
    "example of use is a first dropdown that contains the state and the second dropdown that contains the city, the second dropdown should only contain cities within that state"
   ]
  },
  {
   "cell_type": "code",
   "execution_count": null,
   "id": "e27fd1f6",
   "metadata": {
    "hidden": true
   },
   "outputs": [],
   "source": [
    "states_cities = {\n",
    "    \"California\": [\"Los Angeles\", \"San Diego\", \"San Francisco\"],\n",
    "    \"Oregon\": [\"Bend\", \"Eugene\", \"Portland\"],\n",
    "    \"Washington\": [\"Olympia\", \"Spokane\", \"Seattle\"],\n",
    "}\n",
    "\n",
    "app.layout= html.Div([\n",
    "    dcc.Dropdown(\n",
    "        id=\"state-dropdown\", \n",
    "        options=[\"California\", \"Oregon\", \"Washington\"], \n",
    "        value=\"California\",\n",
    "        className=\"dbc\"\n",
    "    ),\n",
    "    dcc.Dropdown(id=\"city-dropdown\", value=\"Los Angeles\", className=\"dbc\"),\n",
    "    dbc.Card(id=\"text-output\")\n",
    "])\n",
    "\n",
    "@app.callback(\n",
    "    # notice the 'options' below!\n",
    "    Output(\"city-dropdown\", \"options\"), \n",
    "    Input(\"state-dropdown\", \"value\"))\n",
    "def set_metrics_options(selected_state):\n",
    "    return states_cities[selected_state]\n",
    "\n",
    "@app.callback(\n",
    "    Output(\"text-output\", \"children\"),\n",
    "    Input(\"city-dropdown\", \"value\"))\n",
    "def plot_bar(city):\n",
    "    if not city:\n",
    "        raise PreventUpdate\n",
    "    return f\"You have selected {city}!\""
   ]
  },
  {
   "cell_type": "markdown",
   "id": "dd28758f",
   "metadata": {
    "heading_collapsed": true
   },
   "source": [
    "##### Cross-Filtering"
   ]
  },
  {
   "cell_type": "markdown",
   "id": "38aa82d7",
   "metadata": {
    "hidden": true
   },
   "source": [
    "this uses chart selections as inputs to callbacks that filter other charts"
   ]
  },
  {
   "cell_type": "code",
   "execution_count": 209,
   "id": "620af7a6",
   "metadata": {
    "hidden": true
   },
   "outputs": [
    {
     "name": "stdout",
     "output_type": "stream",
     "text": [
      "Dash is running on http://127.0.0.1:8251/\n",
      "\n",
      "Dash app running on http://127.0.0.1:8251/\n"
     ]
    }
   ],
   "source": [
    "from dash.exceptions import PreventUpdate\n",
    "\n",
    "dbc_css = \"https://cdn.jsdelivr.net/gh/AnnMarieW/dash-bootstrap-templates/dbc.min.css\"\n",
    "\n",
    "app = JupyterDash(__name__, external_stylesheets=[dbc.themes.SLATE, dbc_css])\n",
    "\n",
    "load_figure_template(\"SLATE\")\n",
    "\n",
    "education = (education\n",
    "             .rename({\n",
    "                 \"AVG_MATH_4_SCORE\": \"4th Gr. Math\",\n",
    "                 \"AVG_MATH_8_SCORE\": \"8th Gr. Math\",\n",
    "                 \"AVG_READING_4_SCORE\": \"4th Gr. Reading\",\n",
    "                 \"AVG_READING_8_SCORE\": \"8th Gr. Reading\"\n",
    "             }, axis=1)\n",
    "             .assign(expenditure_per_student=lambda x: x[\"TOTAL_EXPENDITURE\"]/x[\"GRADES_ALL_G\"])\n",
    ")\n",
    "\n",
    "\n",
    "app.layout = html.Div([\n",
    "    dbc.Row(html.H1(\"Education Performance and Expenditure in the US\", style={\"text-align\": \"center\"})),\n",
    "    dbc.Row([\n",
    "       dbc.Col([\n",
    "           dbc.Card([\n",
    "           dcc.Markdown(\"Select an X Column\"),\n",
    "           dcc.RadioItems(\n",
    "               id=\"score-radio\",\n",
    "               options=[\"4th Gr. Math\", \"8th Gr. Math\", \"4th Gr. Reading\", \"8th Gr. Reading\"], \n",
    "               value=\"8th Gr. Math\"\n",
    "           ),\n",
    "           html.Hr(),\n",
    "           dcc.Markdown(\"Select a Y Column\"),\n",
    "           dcc.RadioItems(\n",
    "                id=\"score-radio2\",\n",
    "                options=[\"4th Gr. Math\", \"8th Gr. Math\", \"4th Gr. Reading\", \"8th Gr. Reading\"],\n",
    "                value=\"8th Gr. Reading\"\n",
    "           )])\n",
    "       ], width=2),\n",
    "        dbc.Col(\n",
    "            dcc.Graph(id=\"cross-filter-scatter\", \n",
    "                      # note how we start the hovering data with california, this means\n",
    "                      # our line chart below will start with california\n",
    "                      hoverData={'points': [{'customdata': ['TEXAS']}]})\n",
    "        ),\n",
    "        dbc.Col(dcc.Graph(id=\"x-line\"))\n",
    "    ])\n",
    "])\n",
    "@app.callback(\n",
    "    Output(\"cross-filter-scatter\", \"figure\"),\n",
    "    Input(\"score-radio\", \"value\"),\n",
    "    Input(\"score-radio2\", \"value\"))\n",
    "def score_scatter(x, y):\n",
    "    fig = px.scatter(\n",
    "        education.query(\"YEAR == 2013\"),\n",
    "        x=x,\n",
    "        y=y,\n",
    "        hover_name=\"STATE\",\n",
    "        # here we have specifically mentioned the custom data to be state which is why\n",
    "        # {'points': [{'customdata': ['CALIFORNIA']}]}) works\n",
    "        custom_data=[\"STATE\"]\n",
    "    )\n",
    "        \n",
    "    return fig\n",
    "\n",
    "    \n",
    "@app.callback(\n",
    "    Output(\"x-line\", \"figure\"),\n",
    "    Input(\"cross-filter-scatter\", \"hoverData\"))\n",
    "def update_line(hoverData):\n",
    "    \n",
    "    # takes in the current hover state as input from the cross-filter-scatter\n",
    "    state_name = hoverData[\"points\"][0][\"customdata\"][0]\n",
    "    df=education.query(\"STATE == @state_name\")\n",
    "    \n",
    "    fig = px.line(\n",
    "        df,\n",
    "        x=\"YEAR\",\n",
    "        y=\"expenditure_per_student\",\n",
    "        title=f\"Expenditure Per Student in {state_name.title()}\"\n",
    "    ).update_xaxes(showgrid=False)\n",
    "    \n",
    "    return fig\n",
    "    \n",
    "\n",
    "if __name__ == \"__main__\":\n",
    "    app.run_server(debug=True, port=8251)"
   ]
  },
  {
   "cell_type": "markdown",
   "id": "54e0c077",
   "metadata": {
    "hidden": true
   },
   "source": [
    "In Plotly Dash, the **customdata** argument in plots allows you to **attach additional** data to each point on a scatter plot or a similar plot type. This additional data can be used to provide more context to the user when they interact with the plot, such as displaying additional information about a data point when the user hovers over it with the mouse.\n",
    "\n",
    "The **customdata** argument can take a **list of values or an array of values** for each point in the plot. These values can be any type of data that you want to associate with each point, such as numerical values, categorical labels, or even more complex objects like dictionaries or lists.\n",
    "\n",
    "When you define a customdata array for a plot, it becomes available in the hover_data property of the fig.update_traces method. This allows you to specify which values should be displayed in the tooltip that appears when the user hovers over a data point. You can also use the customdata property to create custom interactions with the plot, such as highlighting related points when the user clicks on a data point that has a specific value in the customdata array."
   ]
  },
  {
   "cell_type": "code",
   "execution_count": null,
   "id": "6717f32b",
   "metadata": {
    "code_folding": [
     0
    ],
    "hidden": true
   },
   "outputs": [],
   "source": [
    "# example of customdata below\n",
    "import plotly.express as px\n",
    "import pandas as pd\n",
    "\n",
    "# Load some example data\n",
    "df = pd.read_csv(\"example_data.csv\")\n",
    "\n",
    "# Define the scatter plot\n",
    "fig = px.scatter(df, x=\"x_values\", y=\"y_values\", color=\"category\", custom_data=[\"name\", \"description\"])\n",
    "\n",
    "# Update the hover data to display the name and description fields\n",
    "fig.update_traces(hovertemplate=\"<br>\".join([\"Name: %{customdata[0]}\", \"Description: %{customdata[1]}\"]))\n",
    "\n",
    "# Display the plot in a Dash app\n",
    "import dash\n",
    "import dash_core_components as dcc\n",
    "import dash_html_components as html\n",
    "\n",
    "app = dash.Dash(__name__)\n",
    "\n",
    "app.layout = html.Div([\n",
    "    dcc.Graph(\n",
    "        id=\"scatter-plot\",\n",
    "        figure=fig\n",
    "    )\n",
    "])\n",
    "\n",
    "if __name__ == \"__main__\":\n",
    "    app.run_server(debug=True)\n"
   ]
  },
  {
   "cell_type": "markdown",
   "id": "9da05ab0",
   "metadata": {
    "heading_collapsed": true
   },
   "source": [
    "##### Manual Callbacks"
   ]
  },
  {
   "cell_type": "markdown",
   "id": "d9b43ee7",
   "metadata": {
    "hidden": true
   },
   "source": [
    "use a button component to your app that run callbacks manually allowing users to make multiple selection before applying any updates"
   ]
  },
  {
   "cell_type": "markdown",
   "id": "c94722ab",
   "metadata": {
    "hidden": true
   },
   "source": [
    "example is having a toggle for number of clusters in kmeans clustering, you want to choose the cluster number than then decide if you want to run that interactive element"
   ]
  },
  {
   "cell_type": "code",
   "execution_count": 213,
   "id": "ddbc0df0",
   "metadata": {
    "hidden": true
   },
   "outputs": [
    {
     "name": "stdout",
     "output_type": "stream",
     "text": [
      "Dash is running on http://127.0.0.1:8260/\n",
      "\n"
     ]
    },
    {
     "data": {
      "text/html": [
       "\n",
       "        <iframe\n",
       "            width=\"100%\"\n",
       "            height=\"650\"\n",
       "            src=\"http://127.0.0.1:8260/\"\n",
       "            frameborder=\"0\"\n",
       "            allowfullscreen\n",
       "            \n",
       "        ></iframe>\n",
       "        "
      ],
      "text/plain": [
       "<IPython.lib.display.IFrame at 0x1514a84d0>"
      ]
     },
     "metadata": {},
     "output_type": "display_data"
    }
   ],
   "source": [
    "dbc_css = \"https://cdn.jsdelivr.net/gh/AnnMarieW/dash-bootstrap-templates/dbc.min.css\"\n",
    "\n",
    "app = JupyterDash(__name__, external_stylesheets=[dbc.themes.SLATE, dbc_css])\n",
    "\n",
    "load_figure_template(\"SLATE\")\n",
    "\n",
    "education = (education\n",
    "             .rename({\n",
    "                 \"AVG_MATH_4_SCORE\": \"4th Gr. Math\",\n",
    "                 \"AVG_MATH_8_SCORE\": \"8th Gr. Math\",\n",
    "                 \"AVG_READING_4_SCORE\": \"4th Gr. Reading\",\n",
    "                 \"AVG_READING_8_SCORE\": \"8th Gr. Reading\"\n",
    "             }, axis=1)\n",
    "             .assign(expenditure_per_student= lambda x: x[\"TOTAL_EXPENDITURE\"]/x[\"GRADES_ALL_G\"])\n",
    ")\n",
    "\n",
    "\n",
    "app.layout = html.Div([\n",
    "    dbc.Row(html.H1(\"Education Performance and Expenditure in the US\", style={\"text-align\": \"center\"})),\n",
    "    dbc.Row([\n",
    "       dbc.Col([\n",
    "           dbc.Card([\n",
    "               dcc.Markdown(\"Select an X Column\"),\n",
    "               dcc.RadioItems(\n",
    "                   id=\"score-radio\",\n",
    "                   options=[\"4th Gr. Math\", \"8th Gr. Math\", \"4th Gr. Reading\", \"8th Gr. Reading\"], \n",
    "                   value=\"8th Gr. Math\"\n",
    "               ),\n",
    "               html.Hr(),\n",
    "               dcc.Markdown(\"Select a Y Column\"),\n",
    "               dcc.RadioItems(\n",
    "                    id=\"score-radio2\",\n",
    "                    options=[\"4th Gr. Math\", \"8th Gr. Math\", \"4th Gr. Reading\", \"8th Gr. Reading\"],\n",
    "                    value=\"8th Gr. Reading\"\n",
    "               ),\n",
    "               # submit button adding the number of clicks which is set to 'none'\n",
    "               html.Button(\"Submit\", id=\"submit-button\", n_clicks = None)])\n",
    "       ], width=2),\n",
    "        dbc.Col(dcc.Graph(id=\"cross-filter-scatter\", \n",
    "                          hoverData={'points': [{'customdata': ['CALIFORNIA']}]}), width=5),\n",
    "        dbc.Col(dcc.Graph(id=\"x-line\"), width=5)\n",
    "    ])\n",
    "])\n",
    "\n",
    "@app.callback(\n",
    "    Output(\"cross-filter-scatter\", \"figure\"),\n",
    "    # send the number of clicks - which in this case is 'None' back to\n",
    "    # the button so that one click continously does the job\n",
    "    # for us\n",
    "    Output(\"submit-button\", \"n_clicks\"),\n",
    "    Input(\"score-radio\", \"value\"),\n",
    "    Input(\"score-radio2\", \"value\"),\n",
    "    Input(\"submit-button\", \"n_clicks\")\n",
    ")\n",
    "def score_scatter(x, y, n_clicks):\n",
    "    # if no clicks given, prevent the update\n",
    "    # this is why no plot is produced when there isnt\n",
    "    if not n_clicks:\n",
    "        raise PreventUpdate\n",
    "    fig = px.scatter(\n",
    "        education.query(\"YEAR == 2013\"),\n",
    "        x=x,\n",
    "        y=y,\n",
    "        hover_name=\"STATE\",\n",
    "        custom_data=[\"STATE\"],\n",
    "        # note the njumber of clicks in the title!\n",
    "        title=f\"{n_clicks}\"\n",
    "    ) \n",
    "    # setting the n_clicks of the button back to none so that\n",
    "    # if the button is re-pressed we start the process again\n",
    "    # if we dont have this in place then the number of clicks continues\n",
    "    # to go up\n",
    "    n_clicks = None\n",
    "    return fig, n_clicks\n",
    "\n",
    "\n",
    "def create_line_chart(df, state_name):\n",
    "    \n",
    "    fig = px.line(\n",
    "        df, x=\"YEAR\", \n",
    "        y=\"expenditure_per_student\",\n",
    "        title=f\"Expenditure Per Student in {state_name.title()}\"\n",
    "    )\n",
    "        \n",
    "    fig.update_xaxes(showgrid=False)\n",
    "    \n",
    "    return fig\n",
    "    \n",
    "@app.callback(\n",
    "    Output(\"x-line\", \"figure\"),\n",
    "    Input(\"cross-filter-scatter\", \"hoverData\"))\n",
    "def update_line(hoverData):\n",
    "    state_name = hoverData[\"points\"][0][\"customdata\"][0]\n",
    "    df=education.query(\"STATE == @state_name\")\n",
    "    return create_line_chart(df, state_name)\n",
    "    \n",
    "\n",
    "if __name__ == \"__main__\":\n",
    "    app.run_server(debug=True,mode=\"inline\", port=8260)\n"
   ]
  },
  {
   "cell_type": "markdown",
   "id": "4dab26b8",
   "metadata": {
    "heading_collapsed": true
   },
   "source": [
    "##### Periodic Callbacks"
   ]
  },
  {
   "cell_type": "markdown",
   "id": "d9321860",
   "metadata": {
    "hidden": true
   },
   "source": [
    "These call backs update on a time period (useful for when connected to live data souce)"
   ]
  },
  {
   "cell_type": "markdown",
   "id": "ab7c9382",
   "metadata": {
    "hidden": true
   },
   "source": [
    "<code>dcc.Interval(interval, n_intervals)</code>"
   ]
  },
  {
   "cell_type": "code",
   "execution_count": 215,
   "id": "1e753071",
   "metadata": {
    "hidden": true
   },
   "outputs": [
    {
     "name": "stdout",
     "output_type": "stream",
     "text": [
      "Dash is running on http://127.0.0.1:8260/\n",
      "\n"
     ]
    },
    {
     "data": {
      "text/html": [
       "\n",
       "        <iframe\n",
       "            width=\"100%\"\n",
       "            height=\"650\"\n",
       "            src=\"http://127.0.0.1:8260/\"\n",
       "            frameborder=\"0\"\n",
       "            allowfullscreen\n",
       "            \n",
       "        ></iframe>\n",
       "        "
      ],
      "text/plain": [
       "<IPython.lib.display.IFrame at 0x1518a8690>"
      ]
     },
     "metadata": {},
     "output_type": "display_data"
    }
   ],
   "source": [
    "dbc_css = \"https://cdn.jsdelivr.net/gh/AnnMarieW/dash-bootstrap-templates/dbc.min.css\"\n",
    "\n",
    "app = JupyterDash(__name__, external_stylesheets=[dbc.themes.SLATE, dbc_css])\n",
    "\n",
    "load_figure_template(\"SLATE\")\n",
    "\n",
    "from numpy.random import default_rng\n",
    "rng = default_rng(2023)\n",
    "\n",
    "app.layout = html.Div([\n",
    "    dbc.Row(html.H1(\"Normal Distribution Simulator\", style={\"text-align\": \"center\"})),\n",
    "    dbc.Row(dbc.Col(dcc.Graph(id=\"random-data-scatter\"))),\n",
    "    \n",
    "    # interval updates every 1000 mili seconds (1000 = 1 second)\n",
    "    dcc.Interval(id=\"refresh-data-interval\", interval=1000, n_intervals=0)\n",
    "])\n",
    "\n",
    "@app.callback(\n",
    "    Output(\"random-data-scatter\", \"figure\"),\n",
    "    # note the input takes 'n_intevals'\n",
    "    Input(\"refresh-data-interval\", \"n_intervals\")\n",
    ")\n",
    "\n",
    "def rand_hist(n_intervals):\n",
    "    # every n_intervals, this will change at a rate of interval\n",
    "    mean, stddev = 100, 10\n",
    "    fig = px.histogram(\n",
    "        x=rng.normal(mean, stddev, size=100),\n",
    "        title=f\"Random Histogram has run {n_intervals} times\"\n",
    "    )\n",
    "    return fig\n",
    "\n",
    "\n",
    "if __name__ == \"__main__\":\n",
    "    app.run_server(debug=True, mode=\"inline\", port=8260)"
   ]
  },
  {
   "cell_type": "markdown",
   "id": "f834af2e",
   "metadata": {
    "hidden": true
   },
   "source": [
    "###### Finnhub API"
   ]
  },
  {
   "cell_type": "code",
   "execution_count": 273,
   "id": "b5a615b6",
   "metadata": {
    "hidden": true,
    "scrolled": true
   },
   "outputs": [
    {
     "name": "stdout",
     "output_type": "stream",
     "text": [
      "{'c': 36.675, 'd': 0.215, 'dp': 0.5897, 'h': 36.69, 'l': 36.56, 'o': 36.84, 'pc': 36.46, 't': 1682084619}\n"
     ]
    }
   ],
   "source": [
    "import finnhub\n",
    "from dotenv import load_dotenv\n",
    "import os\n",
    "\n",
    "dotenv_path = 'Secrets/.env'\n",
    "\n",
    "load_dotenv(dotenv_path)\n",
    "\n",
    "api_key = os.getenv('API_KEY')\n",
    "\n",
    "finnhub_client = finnhub.Client(api_key=api_key)\n",
    "\n",
    "ticker = 'GSK'\n",
    "\n",
    "print(finnhub_client.quote(ticker))"
   ]
  },
  {
   "cell_type": "code",
   "execution_count": 274,
   "id": "ad9195b6",
   "metadata": {
    "hidden": true,
    "scrolled": true
   },
   "outputs": [
    {
     "name": "stdout",
     "output_type": "stream",
     "text": [
      "Dash is running on http://127.0.0.1:8260/\n",
      "\n",
      "Dash app running on http://127.0.0.1:8260/\n"
     ]
    }
   ],
   "source": [
    "# app\n",
    "\n",
    "from datetime import datetime, date\n",
    "\n",
    "dbc_css = \"https://cdn.jsdelivr.net/gh/AnnMarieW/dash-bootstrap-templates/dbc.min.css\"\n",
    "\n",
    "app = JupyterDash(__name__, external_stylesheets=[dbc.themes.SLATE, dbc_css])\n",
    "\n",
    "\n",
    "finnhub_client = finnhub.Client(api_key=api_key)\n",
    "\n",
    "load_figure_template(\"SLATE\")\n",
    "\n",
    "stock_df = pd.DataFrame(finnhub_client.quote(ticker), index=[0])\n",
    "\n",
    "def append_row(dataframe):\n",
    "    row = finnhub_client.quote(ticker)\n",
    "    temp_df = pd.DataFrame(row, index=[0])\n",
    "    merged_df = pd.concat([dataframe, temp_df]).reset_index(drop= True)\n",
    "    return merged_df\n",
    "\n",
    "\n",
    "app.layout = html.Div([\n",
    "    dbc.Row(html.H1(\"Real-Time Stock Tracker\", style={\"text-align\": \"center\"})),\n",
    "    dbc.Row(dbc.Col(dcc.Graph(id=\"stock-price-line\"))),\n",
    "    dcc.Interval(id=\"refresh-data-interval\", interval=2000)\n",
    "])\n",
    "\n",
    "@app.callback(\n",
    "    Output(\"stock-price-line\", \"figure\"),\n",
    "    Input(\"refresh-data-interval\", \"n_intervals\")\n",
    ")\n",
    "\n",
    "\n",
    "def stock_line(n_intervals):\n",
    "    \n",
    "    global stock_df\n",
    "    \n",
    "    stock_df = append_row(stock_df)\n",
    "    \n",
    "    fig = px.line(\n",
    "        (stock_df\n",
    "         .assign(t = pd.to_datetime(stock_df[\"t\"], unit=\"s\"))\n",
    "         .rename({\"c\": \"Price\"}, axis=1)\n",
    "        ),\n",
    "        x=\"t\",\n",
    "        y=\"Price\",\n",
    "        title=f\"{ticker} Stock Price as of {datetime.now()}\"\n",
    "    ).update_layout({\"title\": {\"x\": .5}})\n",
    "    \n",
    "    \n",
    "    return fig\n",
    "\n",
    "\n",
    "if __name__ == \"__main__\":\n",
    "    app.run_server(debug=True, port=8260)"
   ]
  },
  {
   "cell_type": "markdown",
   "id": "01da7c5c",
   "metadata": {
    "heading_collapsed": true
   },
   "source": [
    "### Assignment: Advanced Callbacks"
   ]
  },
  {
   "cell_type": "code",
   "execution_count": 283,
   "id": "97d8fea9",
   "metadata": {
    "hidden": true
   },
   "outputs": [
    {
     "data": {
      "text/html": [
       "<div>\n",
       "<style scoped>\n",
       "    .dataframe tbody tr th:only-of-type {\n",
       "        vertical-align: middle;\n",
       "    }\n",
       "\n",
       "    .dataframe tbody tr th {\n",
       "        vertical-align: top;\n",
       "    }\n",
       "\n",
       "    .dataframe thead th {\n",
       "        text-align: right;\n",
       "    }\n",
       "</style>\n",
       "<table border=\"1\" class=\"dataframe\">\n",
       "  <thead>\n",
       "    <tr style=\"text-align: right;\">\n",
       "      <th></th>\n",
       "      <th>ID</th>\n",
       "      <th>Resort</th>\n",
       "      <th>Latitude</th>\n",
       "      <th>Longitude</th>\n",
       "      <th>Country</th>\n",
       "      <th>Continent</th>\n",
       "      <th>Price</th>\n",
       "      <th>Season</th>\n",
       "      <th>Highest point</th>\n",
       "      <th>Lowest point</th>\n",
       "      <th>...</th>\n",
       "      <th>Snow cannons</th>\n",
       "      <th>Surface lifts</th>\n",
       "      <th>Chair lifts</th>\n",
       "      <th>Gondola lifts</th>\n",
       "      <th>Total lifts</th>\n",
       "      <th>Lift capacity</th>\n",
       "      <th>Child friendly</th>\n",
       "      <th>Snowparks</th>\n",
       "      <th>Nightskiing</th>\n",
       "      <th>Summer skiing</th>\n",
       "    </tr>\n",
       "  </thead>\n",
       "  <tbody>\n",
       "    <tr>\n",
       "      <th>0</th>\n",
       "      <td>1</td>\n",
       "      <td>Hemsedal</td>\n",
       "      <td>60.928244</td>\n",
       "      <td>8.383487</td>\n",
       "      <td>Norway</td>\n",
       "      <td>Europe</td>\n",
       "      <td>46</td>\n",
       "      <td>November - May</td>\n",
       "      <td>1450</td>\n",
       "      <td>620</td>\n",
       "      <td>...</td>\n",
       "      <td>325</td>\n",
       "      <td>15</td>\n",
       "      <td>6</td>\n",
       "      <td>0</td>\n",
       "      <td>21</td>\n",
       "      <td>22921</td>\n",
       "      <td>Yes</td>\n",
       "      <td>Yes</td>\n",
       "      <td>Yes</td>\n",
       "      <td>No</td>\n",
       "    </tr>\n",
       "    <tr>\n",
       "      <th>1</th>\n",
       "      <td>2</td>\n",
       "      <td>Geilosiden Geilo</td>\n",
       "      <td>60.534526</td>\n",
       "      <td>8.206372</td>\n",
       "      <td>Norway</td>\n",
       "      <td>Europe</td>\n",
       "      <td>44</td>\n",
       "      <td>November - April</td>\n",
       "      <td>1178</td>\n",
       "      <td>800</td>\n",
       "      <td>...</td>\n",
       "      <td>100</td>\n",
       "      <td>18</td>\n",
       "      <td>6</td>\n",
       "      <td>0</td>\n",
       "      <td>24</td>\n",
       "      <td>14225</td>\n",
       "      <td>Yes</td>\n",
       "      <td>Yes</td>\n",
       "      <td>Yes</td>\n",
       "      <td>No</td>\n",
       "    </tr>\n",
       "    <tr>\n",
       "      <th>2</th>\n",
       "      <td>3</td>\n",
       "      <td>Golm</td>\n",
       "      <td>47.057810</td>\n",
       "      <td>9.828167</td>\n",
       "      <td>Austria</td>\n",
       "      <td>Europe</td>\n",
       "      <td>48</td>\n",
       "      <td>December - April</td>\n",
       "      <td>2110</td>\n",
       "      <td>650</td>\n",
       "      <td>...</td>\n",
       "      <td>123</td>\n",
       "      <td>4</td>\n",
       "      <td>4</td>\n",
       "      <td>3</td>\n",
       "      <td>11</td>\n",
       "      <td>16240</td>\n",
       "      <td>Yes</td>\n",
       "      <td>No</td>\n",
       "      <td>No</td>\n",
       "      <td>No</td>\n",
       "    </tr>\n",
       "    <tr>\n",
       "      <th>3</th>\n",
       "      <td>4</td>\n",
       "      <td>Red Mountain Resort-Rossland</td>\n",
       "      <td>49.105520</td>\n",
       "      <td>-117.846280</td>\n",
       "      <td>Canada</td>\n",
       "      <td>North America</td>\n",
       "      <td>60</td>\n",
       "      <td>December - April</td>\n",
       "      <td>2075</td>\n",
       "      <td>1185</td>\n",
       "      <td>...</td>\n",
       "      <td>0</td>\n",
       "      <td>2</td>\n",
       "      <td>5</td>\n",
       "      <td>1</td>\n",
       "      <td>8</td>\n",
       "      <td>9200</td>\n",
       "      <td>Yes</td>\n",
       "      <td>Yes</td>\n",
       "      <td>Yes</td>\n",
       "      <td>No</td>\n",
       "    </tr>\n",
       "    <tr>\n",
       "      <th>4</th>\n",
       "      <td>5</td>\n",
       "      <td>Hafjell</td>\n",
       "      <td>61.230369</td>\n",
       "      <td>10.529014</td>\n",
       "      <td>Norway</td>\n",
       "      <td>Europe</td>\n",
       "      <td>45</td>\n",
       "      <td>November - April</td>\n",
       "      <td>1030</td>\n",
       "      <td>195</td>\n",
       "      <td>...</td>\n",
       "      <td>150</td>\n",
       "      <td>14</td>\n",
       "      <td>3</td>\n",
       "      <td>1</td>\n",
       "      <td>18</td>\n",
       "      <td>21060</td>\n",
       "      <td>Yes</td>\n",
       "      <td>Yes</td>\n",
       "      <td>Yes</td>\n",
       "      <td>No</td>\n",
       "    </tr>\n",
       "  </tbody>\n",
       "</table>\n",
       "<p>5 rows × 25 columns</p>\n",
       "</div>"
      ],
      "text/plain": [
       "   ID                        Resort   Latitude   Longitude  Country   \n",
       "0   1                      Hemsedal  60.928244    8.383487   Norway  \\\n",
       "1   2              Geilosiden Geilo  60.534526    8.206372   Norway   \n",
       "2   3                          Golm  47.057810    9.828167  Austria   \n",
       "3   4  Red Mountain Resort-Rossland  49.105520 -117.846280   Canada   \n",
       "4   5                       Hafjell  61.230369   10.529014   Norway   \n",
       "\n",
       "       Continent  Price            Season  Highest point  Lowest point  ...   \n",
       "0         Europe     46    November - May           1450           620  ...  \\\n",
       "1         Europe     44  November - April           1178           800  ...   \n",
       "2         Europe     48  December - April           2110           650  ...   \n",
       "3  North America     60  December - April           2075          1185  ...   \n",
       "4         Europe     45  November - April           1030           195  ...   \n",
       "\n",
       "   Snow cannons  Surface lifts  Chair lifts  Gondola lifts  Total lifts   \n",
       "0           325             15            6              0           21  \\\n",
       "1           100             18            6              0           24   \n",
       "2           123              4            4              3           11   \n",
       "3             0              2            5              1            8   \n",
       "4           150             14            3              1           18   \n",
       "\n",
       "   Lift capacity  Child friendly  Snowparks  Nightskiing  Summer skiing  \n",
       "0          22921             Yes        Yes          Yes             No  \n",
       "1          14225             Yes        Yes          Yes             No  \n",
       "2          16240             Yes         No           No             No  \n",
       "3           9200             Yes        Yes          Yes             No  \n",
       "4          21060             Yes        Yes          Yes             No  \n",
       "\n",
       "[5 rows x 25 columns]"
      ]
     },
     "execution_count": 283,
     "metadata": {},
     "output_type": "execute_result"
    }
   ],
   "source": [
    "url = r\"/Users/chrismembrey/Desktop/DS/projects/plotly_dash_course/Course_Materials/Data/Ski Resorts/resorts.csv\"\n",
    "resorts = pd.read_csv(url, encoding = 'iso-8859-1')\n",
    "resorts.head(5)\n"
   ]
  },
  {
   "cell_type": "code",
   "execution_count": 289,
   "id": "39e31028",
   "metadata": {
    "hidden": true
   },
   "outputs": [],
   "source": [
    "# we need a metric that lets us have an idea of how busy\n",
    "# the slopes will be. That metric will be the ratio of lift capacity \n",
    "# to total slopes. \n",
    "\n",
    "# this assumes  that lift capacity == number of people on the slopes or is \n",
    "# proportional too this number\n",
    "\n",
    "\n",
    "resorts['slope_population_density'] = round(resorts['Lift capacity'] / resorts['Total slopes'], 2)"
   ]
  },
  {
   "cell_type": "code",
   "execution_count": 310,
   "id": "bfb23675",
   "metadata": {
    "hidden": true
   },
   "outputs": [
    {
     "name": "stdout",
     "output_type": "stream",
     "text": [
      "Dash is running on http://127.0.0.1:1111/\n",
      "\n"
     ]
    },
    {
     "data": {
      "text/html": [
       "\n",
       "        <iframe\n",
       "            width=\"100%\"\n",
       "            height=\"650\"\n",
       "            src=\"http://127.0.0.1:1111/\"\n",
       "            frameborder=\"0\"\n",
       "            allowfullscreen\n",
       "            \n",
       "        ></iframe>\n",
       "        "
      ],
      "text/plain": [
       "<IPython.lib.display.IFrame at 0x156ad9f90>"
      ]
     },
     "metadata": {},
     "output_type": "display_data"
    }
   ],
   "source": [
    "dbc_css = \"https://cdn.jsdelivr.net/gh/AnnMarieW/dash-bootstrap-templates/dbc.min.css\"\n",
    "\n",
    "\n",
    "app = JupyterDash(__name__, external_stylesheets=[dbc.themes.SLATE, dbc_css])\n",
    "\n",
    "\n",
    "app.layout = html.Div([\n",
    "    html.H1(id='app-header', className = 'dbc'),\n",
    "    html.P('Choose a Country Below', className = 'dbc'),\n",
    "    \n",
    "    dcc.Dropdown(\n",
    "    \n",
    "        id='country-dropdown', \n",
    "        options = resorts['Country'].unique(),\n",
    "        value = 'Andorra',\n",
    "        className = 'dbc'\n",
    "    ),\n",
    "    \n",
    "    \n",
    "    dcc.Slider(\n",
    "    \n",
    "        id='elevation-slider',\n",
    "        min = 0,\n",
    "        max = 5000,\n",
    "        step = 500,\n",
    "        marks = {\n",
    "            \n",
    "            i : {\n",
    "                'label': f'{i}m',\n",
    "                'style': {'color': 'lightgrey'}\n",
    "            } for i in range(0,5500, 500)\n",
    "        },\n",
    "        className = 'dbc',\n",
    "        value = 0\n",
    "    ),\n",
    "    \n",
    "    \n",
    "    \n",
    "    dcc.Checklist(\n",
    "    \n",
    "        id='bar-chart-checklist',\n",
    "        options = ['Bar Chart'],\n",
    "        value = [], # unchecked\n",
    "        className = 'dbc'\n",
    "    ),\n",
    "    \n",
    "    html.Button(\n",
    "        children = 'Process',\n",
    "        id='checklist-confirm-button',\n",
    "        n_clicks = None,\n",
    "        className = 'dbc'\n",
    "    \n",
    "    ),\n",
    "    \n",
    "    html.Div(id='chart-or-table', className = 'dbc')\n",
    "    \n",
    "], className = 'dbc')\n",
    "\n",
    "\n",
    "\n",
    "@app.callback(\n",
    "\n",
    "    Output('chart-or-table', 'children'),\n",
    "    Output('app-header', 'children'),\n",
    "    Output('checklist-confirm-button', 'n_clicks'),\n",
    "    Input('bar-chart-checklist', 'value'),\n",
    "    Input('checklist-confirm-button', 'n_clicks'),\n",
    "    Input('country-dropdown', 'value'),\n",
    "    Input('elevation-slider', 'value')\n",
    ")\n",
    "def create_app(checklist , n_clicks, country, elevation):\n",
    "    \n",
    "    \n",
    "    title = f'Ski Resorts in {country} with Peaks above {elevation}M'\n",
    "    \n",
    "    if not n_clicks:\n",
    "        \n",
    "        # have the choice to prevent update of just return \n",
    "        #'none' values with the first country\n",
    "        \n",
    "#         raise PreventUpdate\n",
    "        \n",
    "        return None , title, None\n",
    "        \n",
    "    country_resort = resorts.query(\"Country == @country\")\n",
    "    country_elevation = country_resort.loc[\n",
    "        (country_resort['Highest point'] >= elevation)]\n",
    "    \n",
    "    \n",
    "    \n",
    "    if checklist == ['Bar Chart']:\n",
    "        \n",
    "        fig = px.bar(\n",
    "            \n",
    "            country_elevation,\n",
    "            x = 'Resort',\n",
    "            y = 'slope_population_density',\n",
    "            title = f'Population Density of Resorts in {country}'\n",
    "        \n",
    "        )\n",
    "        \n",
    "        \n",
    "        result = dcc.Graph(id='bar', figure = fig, className = 'dbc')\n",
    "        \n",
    "    else:\n",
    "        \n",
    "        result = dash_table.DataTable(\n",
    "    \n",
    "        columns = [{'name': i, 'id': i} for i in country_elevation.columns],\n",
    "        data = country_elevation.to_dict('records'),\n",
    "        filter_action = 'native',\n",
    "        sort_action = 'native', \n",
    "        export_format = 'xlsx',\n",
    "    )\n",
    "    \n",
    "    \n",
    "    \n",
    "    n_clicks = None\n",
    "    \n",
    "    \n",
    "    return result , title, n_clicks\n",
    "\n",
    "\n",
    "\n",
    "\n",
    "app.run_server(debug = True, port=1111, mode='inline')\n",
    "\n"
   ]
  },
  {
   "cell_type": "code",
   "execution_count": null,
   "id": "e3dced19",
   "metadata": {
    "hidden": true
   },
   "outputs": [],
   "source": []
  }
 ],
 "metadata": {
  "kernelspec": {
   "display_name": "Python 3 (ipykernel)",
   "language": "python",
   "name": "python3"
  },
  "language_info": {
   "codemirror_mode": {
    "name": "ipython",
    "version": 3
   },
   "file_extension": ".py",
   "mimetype": "text/x-python",
   "name": "python",
   "nbconvert_exporter": "python",
   "pygments_lexer": "ipython3",
   "version": "3.11.3"
  }
 },
 "nbformat": 4,
 "nbformat_minor": 5
}
